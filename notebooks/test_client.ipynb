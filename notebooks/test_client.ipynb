{
 "cells": [
  {
   "cell_type": "code",
   "execution_count": 19,
   "metadata": {
    "collapsed": true
   },
   "outputs": [],
   "source": [
    "import requests\n",
    "import json"
   ]
  },
  {
   "cell_type": "code",
   "execution_count": 42,
   "metadata": {},
   "outputs": [
    {
     "name": "stdout",
     "output_type": "stream",
     "text": [
      "Server: Gunicorn. CPU count: 4\n",
      "\n",
      "Endepunkter:\n",
      "POST: \\language\n",
      "post('http://url/language', params='', data=json.dumps({'text': 'Nynorsk og bokmål er jamstilte målformer i Noreg, og det har dei to skriftspråka vore sidan 1885.'}), headers={'content-type': 'application/json'})\n"
     ]
    }
   ],
   "source": [
    "r = requests.get(\"http://localhost:8080/\")\n",
    "print(r.text)"
   ]
  },
  {
   "cell_type": "code",
   "execution_count": 32,
   "metadata": {},
   "outputs": [
    {
     "name": "stdout",
     "output_type": "stream",
     "text": [
      "{\"language\": \"no\"}\n"
     ]
    }
   ],
   "source": [
    "payload = {'text': 'her kommer en lang lang tekst og enda mye lenger'}\n",
    "\n",
    "headers = {'content-type': 'application/json'}\n",
    "params = {'key': '', 'version':''}\n",
    "r = requests.post(\"http://localhost:8080/language\", params=params, data=json.dumps(payload), headers=headers)\n",
    "print(r.text)"
   ]
  },
  {
   "cell_type": "code",
   "execution_count": 36,
   "metadata": {},
   "outputs": [
    {
     "name": "stdout",
     "output_type": "stream",
     "text": [
      "{\"language\": \"en\"}\n"
     ]
    }
   ],
   "source": [
    "payload = {'text': 'good job folks'}\n",
    "\n",
    "headers = {'content-type': 'application/json'}\n",
    "params = {'key': '', 'version':''}\n",
    "r = requests.post(\"http://localhost:8080/language\", params=params, data=json.dumps(payload), headers=headers)\n",
    "print(r.text)"
   ]
  },
  {
   "cell_type": "code",
   "execution_count": 38,
   "metadata": {},
   "outputs": [
    {
     "name": "stdout",
     "output_type": "stream",
     "text": [
      "{\"language\": \"nn\"}\n"
     ]
    }
   ],
   "source": [
    "payload = {'text': 'Nynorsk og bokmål er jamstilte målformer i Noreg, og det har dei to skriftspråka vore sidan 1885.'}\n",
    "\n",
    "headers = {'content-type': 'application/json'}\n",
    "params = {'key': '', 'version':''}\n",
    "r = requests.post(\"http://localhost:8080/language\", params=params, data=json.dumps(payload), headers=headers)\n",
    "print(r.text)"
   ]
  }
 ],
 "metadata": {
  "kernelspec": {
   "display_name": "Python 3",
   "language": "python",
   "name": "python3"
  },
  "language_info": {
   "codemirror_mode": {
    "name": "ipython",
    "version": 3
   },
   "file_extension": ".py",
   "mimetype": "text/x-python",
   "name": "python",
   "nbconvert_exporter": "python",
   "pygments_lexer": "ipython3",
   "version": "3.6.1"
  }
 },
 "nbformat": 4,
 "nbformat_minor": 2
}
